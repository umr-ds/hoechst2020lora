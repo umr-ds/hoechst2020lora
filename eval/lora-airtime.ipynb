{
 "cells": [
  {
   "cell_type": "code",
   "execution_count": 1,
   "metadata": {},
   "outputs": [],
   "source": [
    "%matplotlib inline\n",
    "import matplotlib.pyplot as plt\n",
    "import pandas\n",
    "import math"
   ]
  },
  {
   "cell_type": "code",
   "execution_count": 2,
   "metadata": {},
   "outputs": [
    {
     "data": {
      "text/html": [
       "<div>\n",
       "<style scoped>\n",
       "    .dataframe tbody tr th:only-of-type {\n",
       "        vertical-align: middle;\n",
       "    }\n",
       "\n",
       "    .dataframe tbody tr th {\n",
       "        vertical-align: top;\n",
       "    }\n",
       "\n",
       "    .dataframe thead th {\n",
       "        text-align: right;\n",
       "    }\n",
       "</style>\n",
       "<table border=\"1\" class=\"dataframe\">\n",
       "  <thead>\n",
       "    <tr style=\"text-align: right;\">\n",
       "      <th></th>\n",
       "      <th>rate</th>\n",
       "      <th>spreading</th>\n",
       "      <th>bandwidth</th>\n",
       "      <th>config</th>\n",
       "      <th>bps</th>\n",
       "      <th>max_payload</th>\n",
       "    </tr>\n",
       "  </thead>\n",
       "  <tbody>\n",
       "    <tr>\n",
       "      <td>0</td>\n",
       "      <td>DR0</td>\n",
       "      <td>12</td>\n",
       "      <td>125</td>\n",
       "      <td>SF12/125kHz</td>\n",
       "      <td>250</td>\n",
       "      <td>51</td>\n",
       "    </tr>\n",
       "    <tr>\n",
       "      <td>1</td>\n",
       "      <td>DR1</td>\n",
       "      <td>11</td>\n",
       "      <td>125</td>\n",
       "      <td>SF11/125kHz</td>\n",
       "      <td>440</td>\n",
       "      <td>51</td>\n",
       "    </tr>\n",
       "    <tr>\n",
       "      <td>2</td>\n",
       "      <td>DR2</td>\n",
       "      <td>10</td>\n",
       "      <td>125</td>\n",
       "      <td>SF10/125kHz</td>\n",
       "      <td>980</td>\n",
       "      <td>51</td>\n",
       "    </tr>\n",
       "    <tr>\n",
       "      <td>3</td>\n",
       "      <td>DR3</td>\n",
       "      <td>9</td>\n",
       "      <td>125</td>\n",
       "      <td>SF9/125kHz</td>\n",
       "      <td>1760</td>\n",
       "      <td>115</td>\n",
       "    </tr>\n",
       "    <tr>\n",
       "      <td>4</td>\n",
       "      <td>DR4</td>\n",
       "      <td>8</td>\n",
       "      <td>125</td>\n",
       "      <td>SF8/125kHz</td>\n",
       "      <td>3125</td>\n",
       "      <td>222</td>\n",
       "    </tr>\n",
       "    <tr>\n",
       "      <td>5</td>\n",
       "      <td>DR5</td>\n",
       "      <td>7</td>\n",
       "      <td>125</td>\n",
       "      <td>SF7/125kHz</td>\n",
       "      <td>5470</td>\n",
       "      <td>222</td>\n",
       "    </tr>\n",
       "    <tr>\n",
       "      <td>6</td>\n",
       "      <td>DR6</td>\n",
       "      <td>7</td>\n",
       "      <td>250</td>\n",
       "      <td>SF7/250kHz</td>\n",
       "      <td>11000</td>\n",
       "      <td>222</td>\n",
       "    </tr>\n",
       "  </tbody>\n",
       "</table>\n",
       "</div>"
      ],
      "text/plain": [
       "  rate  spreading  bandwidth       config    bps  max_payload\n",
       "0  DR0         12        125  SF12/125kHz    250           51\n",
       "1  DR1         11        125  SF11/125kHz    440           51\n",
       "2  DR2         10        125  SF10/125kHz    980           51\n",
       "3  DR3          9        125   SF9/125kHz   1760          115\n",
       "4  DR4          8        125   SF8/125kHz   3125          222\n",
       "5  DR5          7        125   SF7/125kHz   5470          222\n",
       "6  DR6          7        250   SF7/250kHz  11000          222"
      ]
     },
     "execution_count": 2,
     "metadata": {},
     "output_type": "execute_result"
    }
   ],
   "source": [
    "_header = [\"rate\", \"spreading\", \"bandwidth\", \"config\", \"bps\", \"max_payload\"]\n",
    "_configs = [\n",
    "    [\"DR0\", 12, 125, \"SF12/125kHz\",   250,  51],\n",
    "    [\"DR1\", 11, 125, \"SF11/125kHz\",   440,  51],\n",
    "    [\"DR2\", 10, 125, \"SF10/125kHz\",   980,  51],\n",
    "    [\"DR3\",  9, 125,  \"SF9/125kHz\",  1760, 115],\n",
    "    [\"DR4\",  8, 125,  \"SF8/125kHz\",  3125, 222],\n",
    "    [\"DR5\",  7, 125,  \"SF7/125kHz\",  5470, 222],\n",
    "    [\"DR6\",  7, 250,  \"SF7/250kHz\", 11000, 222],\n",
    "]\n",
    "configs = pandas.DataFrame(_configs, columns = _header)\n",
    "configs"
   ]
  },
  {
   "cell_type": "code",
   "execution_count": 3,
   "metadata": {},
   "outputs": [],
   "source": [
    "configs[\"t_sym\"] = (2 ** configs[\"spreading\"]) / (configs[\"bandwidth\"])\n",
    "configs[\"t_preamble\"] = (8 + 4.25) * configs[\"t_sym\"]"
   ]
  },
  {
   "cell_type": "code",
   "execution_count": 4,
   "metadata": {
    "scrolled": false
   },
   "outputs": [],
   "source": [
    "def t_packet(payload_size, spreading_factor, bandwidth, coding_rate=4/5, explicit_header=1, low_dr_optimize=0):\n",
    "    \"\"\"Semtech LoRa Modem Design Guide, page 7\"\"\"\n",
    "    t_sym = (2 ** spreading_factor) / (bandwidth * 1000)\n",
    "    t_preamble = (8 + 4.25) * t_sym\n",
    "    payloadSymbNb = 8 + max( math.ceil( (8.0*payload_size - 4.0*spreading_factor + 28 + 16 - 20*explicit_header) / (4.0*(spreading_factor - 2.0*low_dr_optimize)) ) * (coding_rate + 4), 0)\n",
    "    t_payload = t_sym * payloadSymbNb\n",
    "    \n",
    "    return (t_preamble + t_payload)\n",
    "\n",
    "payload_size = 12"
   ]
  },
  {
   "cell_type": "code",
   "execution_count": 5,
   "metadata": {},
   "outputs": [
    {
     "name": "stdout",
     "output_type": "stream",
     "text": [
      "Spreading 12, max 1.9218431999999999\n",
      "Spreading 11, max 1.0395648\n",
      "Spreading 10, max 0.559104\n",
      "Spreading 9, max 0.574464\n",
      "Spreading 8, max 0.582144\n",
      "Spreading 7, max 0.33039359999999995\n",
      "Spreading 7, max 0.16519679999999998\n"
     ]
    },
    {
     "data": {
      "image/png": "[encoded data removed]",
      "text/plain": [
       "<Figure size 432x288 with 1 Axes>"
      ]
     },
     "metadata": {
      "needs_background": "light"
     },
     "output_type": "display_data"
    }
   ],
   "source": [
    "fig = plt.figure()\n",
    "ax = fig.add_subplot(1,1,1)\n",
    "\n",
    "for i, row in configs.iterrows():\n",
    "    packet_bytes = list(range(row[\"max_payload\"]))\n",
    "    packet_time = [t_packet(b, row[\"spreading\"], row[\"bandwidth\"]) for b in packet_bytes]\n",
    "    ax.plot(packet_bytes, packet_time, label=row[\"config\"])\n",
    "    print(f\"Spreading {row['spreading']}, max {packet_time[-1]}\")\n",
    "    #_t_packet = t_packet(payload_size, row[\"spreading\"], row[\"bandwidth\"])\n",
    "    #print(f\"{payload_size} bytes via {row['config']}: {_t_packet}\")\n",
    "\n",
    "ax.set_xlabel(\"Payload Size (Bytes)\")\n",
    "ax.set_ylabel(\"Packet Airtime (s)\")\n",
    "legend = plt.legend()\n",
    "fig.savefig(\"../gfx/lora-airtime.pdf\")"
   ]
  }
 ],
 "metadata": {
  "kernelspec": {
   "display_name": "Python 3",
   "language": "python",
   "name": "python3"
  },
  "language_info": {
   "codemirror_mode": {
    "name": "ipython",
    "version": 3
   },
   "file_extension": ".py",
   "mimetype": "text/x-python",
   "name": "python",
   "nbconvert_exporter": "python",
   "pygments_lexer": "ipython3",
   "version": "3.7.6"
  }
 },
 "nbformat": 4,
 "nbformat_minor": 2
}
